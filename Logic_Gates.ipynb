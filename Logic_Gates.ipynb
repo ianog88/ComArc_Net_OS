{
  "nbformat": 4,
  "nbformat_minor": 0,
  "metadata": {
    "colab": {
      "provenance": [],
      "authorship_tag": "ABX9TyNlYhkckFon4idhiZMLLdxY",
      "include_colab_link": true
    },
    "kernelspec": {
      "name": "python3",
      "display_name": "Python 3"
    },
    "language_info": {
      "name": "python"
    }
  },
  "cells": [
    {
      "cell_type": "markdown",
      "metadata": {
        "id": "view-in-github",
        "colab_type": "text"
      },
      "source": [
        "<a href=\"https://colab.research.google.com/github/ianog88/ComArc_Net_OS/blob/main/Logic_Gates.ipynb\" target=\"_parent\"><img src=\"https://colab.research.google.com/assets/colab-badge.svg\" alt=\"Open In Colab\"/></a>"
      ]
    },
    {
      "cell_type": "markdown",
      "source": [
        "# Logic Gates with Python Functions\n"
      ],
      "metadata": {
        "id": "6JrA_qoPr8_U"
      }
    },
    {
      "cell_type": "code",
      "source": [
        "a = [0,0,1,1]\n",
        "b = [0,1,0,1]"
      ],
      "metadata": {
        "id": "54tlPL7Dc0l1"
      },
      "execution_count": null,
      "outputs": []
    },
    {
      "cell_type": "markdown",
      "source": [
        "# NAND Gate"
      ],
      "metadata": {
        "id": "tTlTbi-Jcr4T"
      }
    },
    {
      "cell_type": "code",
      "source": [
        "def NAND(a,b):\n",
        "  output = [0,0,0,0]\n",
        "\n",
        "  if a[0] and b[0] == 1:\n",
        "    output[0] = 0\n",
        "  else:\n",
        "    output[0] = 1\n",
        "\n",
        "  if a[1] and b[1] == 1:\n",
        "    output[1] = 0\n",
        "  else:\n",
        "    output[1] = 1\n",
        "\n",
        "  if a[2] and b[2] == 1:\n",
        "    output[2] = 0\n",
        "  else:\n",
        "    output[2] = 1\n",
        "\n",
        "  if a[3] and b[3] == 1:\n",
        "    output[3] = 0\n",
        "  else:\n",
        "    output[3] = 1\n",
        "\n",
        "  return output"
      ],
      "metadata": {
        "id": "ocWVft8aaIo6"
      },
      "execution_count": null,
      "outputs": []
    },
    {
      "cell_type": "code",
      "source": [
        "NAND(a,b)"
      ],
      "metadata": {
        "colab": {
          "base_uri": "https://localhost:8080/"
        },
        "id": "CJsxJDqVaxIE",
        "outputId": "e97b319a-038c-4f3a-a1ca-82a578fd0c52"
      },
      "execution_count": null,
      "outputs": [
        {
          "output_type": "execute_result",
          "data": {
            "text/plain": [
              "[1, 1, 1, 0]"
            ]
          },
          "metadata": {},
          "execution_count": 34
        }
      ]
    },
    {
      "cell_type": "markdown",
      "source": [
        "# NOT Gate"
      ],
      "metadata": {
        "id": "zmd7MK4ucvIW"
      }
    },
    {
      "cell_type": "code",
      "source": [
        "def NOT(a):\n",
        "  return NAND(a,a)"
      ],
      "metadata": {
        "id": "E_jOFdZca9YA"
      },
      "execution_count": null,
      "outputs": []
    },
    {
      "cell_type": "code",
      "source": [
        "NOT(a)"
      ],
      "metadata": {
        "colab": {
          "base_uri": "https://localhost:8080/"
        },
        "id": "1BWpwtbqcXA7",
        "outputId": "7def2967-ffab-4b1d-f3c9-78583a0d6ed7"
      },
      "execution_count": null,
      "outputs": [
        {
          "output_type": "execute_result",
          "data": {
            "text/plain": [
              "[1, 1, 0, 0]"
            ]
          },
          "metadata": {},
          "execution_count": 37
        }
      ]
    },
    {
      "cell_type": "code",
      "source": [
        "NOT(b)"
      ],
      "metadata": {
        "colab": {
          "base_uri": "https://localhost:8080/"
        },
        "id": "cPnuYuKlcZTW",
        "outputId": "2cf775bb-1950-426c-d8a5-c6f07fe12680"
      },
      "execution_count": null,
      "outputs": [
        {
          "output_type": "execute_result",
          "data": {
            "text/plain": [
              "[1, 0, 1, 0]"
            ]
          },
          "metadata": {},
          "execution_count": 38
        }
      ]
    },
    {
      "cell_type": "markdown",
      "source": [
        "# AND Gate"
      ],
      "metadata": {
        "id": "IvGo5IoFc-lg"
      }
    },
    {
      "cell_type": "code",
      "source": [
        "def inverse(a):\n",
        "  for i in range(len(a)):\n",
        "    if a[i] == 1:\n",
        "      a[i] = 0\n",
        "    else:\n",
        "      a[i] = 1\n",
        "\n",
        "  return a"
      ],
      "metadata": {
        "id": "nrWczlFRcalY"
      },
      "execution_count": null,
      "outputs": []
    },
    {
      "cell_type": "code",
      "source": [
        "def AND(a,b):\n",
        "  return inverse(NAND(a,b))"
      ],
      "metadata": {
        "id": "xOISHaiddQvm"
      },
      "execution_count": null,
      "outputs": []
    },
    {
      "cell_type": "code",
      "source": [
        "AND(a,b)"
      ],
      "metadata": {
        "colab": {
          "base_uri": "https://localhost:8080/"
        },
        "id": "d1tqAa8ldqFv",
        "outputId": "d732fa1b-97c9-489d-f4cc-585e73e99e40"
      },
      "execution_count": null,
      "outputs": [
        {
          "output_type": "execute_result",
          "data": {
            "text/plain": [
              "[0, 0, 0, 1]"
            ]
          },
          "metadata": {},
          "execution_count": 52
        }
      ]
    },
    {
      "cell_type": "markdown",
      "source": [
        "# OR Gate"
      ],
      "metadata": {
        "id": "PsNEe-sFdvOX"
      }
    },
    {
      "cell_type": "code",
      "source": [
        "def OR(a,b):\n",
        "  return NAND(NAND(a,a),NAND(b,b))"
      ],
      "metadata": {
        "id": "Q9QsSBGddrLd"
      },
      "execution_count": null,
      "outputs": []
    },
    {
      "cell_type": "code",
      "source": [
        "OR(a,b)"
      ],
      "metadata": {
        "colab": {
          "base_uri": "https://localhost:8080/"
        },
        "id": "RBXCUHZVeGqZ",
        "outputId": "0f792b05-6d82-470a-de53-4f6af31295c7"
      },
      "execution_count": null,
      "outputs": [
        {
          "output_type": "execute_result",
          "data": {
            "text/plain": [
              "[0, 1, 1, 1]"
            ]
          },
          "metadata": {},
          "execution_count": 54
        }
      ]
    },
    {
      "cell_type": "markdown",
      "source": [
        "# NOR Gate"
      ],
      "metadata": {
        "id": "j_KDC-D3eOaX"
      }
    },
    {
      "cell_type": "code",
      "source": [
        "def NOR(a,b):\n",
        "  return inverse(OR(a,b))"
      ],
      "metadata": {
        "id": "JfUCDjd2eIq9"
      },
      "execution_count": null,
      "outputs": []
    },
    {
      "cell_type": "code",
      "source": [
        "NOR(a,b)"
      ],
      "metadata": {
        "colab": {
          "base_uri": "https://localhost:8080/"
        },
        "id": "Oxso16bmeU7-",
        "outputId": "1b01be35-a0bc-4c11-a049-13a5f96cbd78"
      },
      "execution_count": null,
      "outputs": [
        {
          "output_type": "execute_result",
          "data": {
            "text/plain": [
              "[1, 0, 0, 0]"
            ]
          },
          "metadata": {},
          "execution_count": 56
        }
      ]
    },
    {
      "cell_type": "markdown",
      "source": [
        "# XOR Gate"
      ],
      "metadata": {
        "id": "ytFcYtK1eXYY"
      }
    },
    {
      "cell_type": "code",
      "source": [
        "def XOR(a,b):\n",
        "  return NAND(NAND(a,NAND(a,b)),NAND(b,NAND(a,b)))"
      ],
      "metadata": {
        "id": "5wLUHEIXeWc9"
      },
      "execution_count": null,
      "outputs": []
    },
    {
      "cell_type": "code",
      "source": [
        "XOR(a,b)"
      ],
      "metadata": {
        "colab": {
          "base_uri": "https://localhost:8080/"
        },
        "id": "i2udkI41ezR-",
        "outputId": "113fb35c-fc2e-4fbe-f090-9e37fe813e05"
      },
      "execution_count": null,
      "outputs": [
        {
          "output_type": "execute_result",
          "data": {
            "text/plain": [
              "[0, 1, 1, 0]"
            ]
          },
          "metadata": {},
          "execution_count": 58
        }
      ]
    },
    {
      "cell_type": "markdown",
      "source": [
        "# MUX Gate"
      ],
      "metadata": {
        "id": "1Bx6EQ-ffkpJ"
      }
    },
    {
      "cell_type": "code",
      "source": [
        "s1 = [0,0,0,0]\n",
        "s2 = [1,1,1,1]"
      ],
      "metadata": {
        "id": "3mb6BZ8Ce036"
      },
      "execution_count": null,
      "outputs": []
    },
    {
      "cell_type": "code",
      "source": [
        "def MUX(a,b,s):\n",
        "  return NAND(NAND(a,NAND(s,s)),NAND(b,s))"
      ],
      "metadata": {
        "id": "q-H7qhmDfvnw"
      },
      "execution_count": null,
      "outputs": []
    },
    {
      "cell_type": "code",
      "source": [
        "MUX(a,b,s1)"
      ],
      "metadata": {
        "colab": {
          "base_uri": "https://localhost:8080/"
        },
        "id": "G-KP_q6qf_Ed",
        "outputId": "f491a147-c0f0-4ed8-9ad2-3c5a3958e7db"
      },
      "execution_count": null,
      "outputs": [
        {
          "output_type": "execute_result",
          "data": {
            "text/plain": [
              "[0, 0, 1, 1]"
            ]
          },
          "metadata": {},
          "execution_count": 61
        }
      ]
    },
    {
      "cell_type": "code",
      "source": [
        "MUX(a,b,s2)"
      ],
      "metadata": {
        "colab": {
          "base_uri": "https://localhost:8080/"
        },
        "id": "UfepymgZgA-I",
        "outputId": "71d79a40-2f21-451b-de9f-798af89b66ec"
      },
      "execution_count": null,
      "outputs": [
        {
          "output_type": "execute_result",
          "data": {
            "text/plain": [
              "[0, 1, 0, 1]"
            ]
          },
          "metadata": {},
          "execution_count": 62
        }
      ]
    },
    {
      "cell_type": "markdown",
      "source": [
        "# DEMUX Gate"
      ],
      "metadata": {
        "id": "UGDyRRaIgsBz"
      }
    },
    {
      "cell_type": "code",
      "source": [
        "i = [0,1,0,1]\n",
        "s = [0,0,1,1]"
      ],
      "metadata": {
        "id": "LUX7iEnegC0L"
      },
      "execution_count": null,
      "outputs": []
    },
    {
      "cell_type": "code",
      "source": [
        "def DEMUX(i,s):\n",
        "  a = NAND(NAND(i,NAND(s,s)),NAND(i,NAND(s,s)))\n",
        "  b = NAND(NAND(i,s),NAND(i,s))\n",
        "  return a,b"
      ],
      "metadata": {
        "id": "_7w0L6Tkg27Q"
      },
      "execution_count": null,
      "outputs": []
    },
    {
      "cell_type": "code",
      "source": [
        "DEMUX(i,s)"
      ],
      "metadata": {
        "colab": {
          "base_uri": "https://localhost:8080/"
        },
        "id": "lGQ0-_8ZhR3G",
        "outputId": "10224c1c-d990-4a6b-ddf5-dbf7d5fc2fee"
      },
      "execution_count": null,
      "outputs": [
        {
          "output_type": "execute_result",
          "data": {
            "text/plain": [
              "([0, 1, 0, 0], [0, 0, 0, 1])"
            ]
          },
          "metadata": {},
          "execution_count": 65
        }
      ]
    },
    {
      "cell_type": "markdown",
      "source": [
        "# Multi-Bit NOT Gate"
      ],
      "metadata": {
        "id": "XFegG5FljZIh"
      }
    },
    {
      "cell_type": "code",
      "source": [
        "a8 = [0,0,0,0,1,1,1,1]"
      ],
      "metadata": {
        "id": "YTrEMXDijgaZ"
      },
      "execution_count": null,
      "outputs": []
    },
    {
      "cell_type": "code",
      "source": [
        "def bit_NAND(a,b):\n",
        "  if a and b == 1:\n",
        "    return 0\n",
        "  else:\n",
        "    return 1"
      ],
      "metadata": {
        "id": "Jsu9v7HchT4J"
      },
      "execution_count": null,
      "outputs": []
    },
    {
      "cell_type": "code",
      "source": [
        "def NOT8(a):\n",
        "  output = [0,0,0,0,0,0,0,0]\n",
        "\n",
        "  for i in range(len(a)):\n",
        "    output[i] = bit_NAND(a[i],a[i])\n",
        "  return output"
      ],
      "metadata": {
        "id": "XRUxCyCajP0x"
      },
      "execution_count": null,
      "outputs": []
    },
    {
      "cell_type": "code",
      "source": [
        "NOT8(a8)"
      ],
      "metadata": {
        "colab": {
          "base_uri": "https://localhost:8080/"
        },
        "id": "wPvKLMYDj8ol",
        "outputId": "4f45e381-435c-4d16-efd4-78f7ba2fb213"
      },
      "execution_count": null,
      "outputs": [
        {
          "output_type": "execute_result",
          "data": {
            "text/plain": [
              "[1, 1, 1, 1, 0, 0, 0, 0]"
            ]
          },
          "metadata": {},
          "execution_count": 94
        }
      ]
    },
    {
      "cell_type": "markdown",
      "source": [
        "# Multi-Bit AND Gate"
      ],
      "metadata": {
        "id": "BXIaHW5plE_H"
      }
    },
    {
      "cell_type": "code",
      "source": [
        "b8 = [1,0,1,0,1,0,1,0]"
      ],
      "metadata": {
        "id": "-13mv5cck1__"
      },
      "execution_count": null,
      "outputs": []
    },
    {
      "cell_type": "code",
      "source": [
        "def bit_AND(a,b):\n",
        "  if a and b == 1:\n",
        "    return 1\n",
        "  else:\n",
        "    return 0"
      ],
      "metadata": {
        "id": "EZ6_y5jclQC7"
      },
      "execution_count": null,
      "outputs": []
    },
    {
      "cell_type": "code",
      "source": [
        "def And8(a,b):\n",
        "  output = [0,0,0,0,0,0,0,0]\n",
        "\n",
        "  for i in range(len(a)):\n",
        "    output[i] = bit_AND(a[i],b[i])\n",
        "  return output"
      ],
      "metadata": {
        "id": "4rStDS67lhDp"
      },
      "execution_count": null,
      "outputs": []
    },
    {
      "cell_type": "code",
      "source": [
        "And8(a8,b8)"
      ],
      "metadata": {
        "colab": {
          "base_uri": "https://localhost:8080/"
        },
        "id": "H0Ejum7zmOYe",
        "outputId": "84e9398a-9da0-4496-dbdc-45591195284d"
      },
      "execution_count": null,
      "outputs": [
        {
          "output_type": "execute_result",
          "data": {
            "text/plain": [
              "[0, 0, 0, 0, 1, 0, 1, 0]"
            ]
          },
          "metadata": {},
          "execution_count": 100
        }
      ]
    },
    {
      "cell_type": "markdown",
      "source": [
        "# Multi-Bit OR Gate"
      ],
      "metadata": {
        "id": "H5hA6--nmVrL"
      }
    },
    {
      "cell_type": "code",
      "source": [
        "def Or8(a,b):\n",
        "  output = [0,0,0,0,0,0,0,0]\n",
        "\n",
        "  for i in range(len(a)):\n",
        "    output[i] = bit_NAND(bit_NAND(a[i],a[i]),bit_NAND(b[i],b[i]))\n",
        "  return output"
      ],
      "metadata": {
        "id": "CxJLP9_ZmRh6"
      },
      "execution_count": null,
      "outputs": []
    },
    {
      "cell_type": "code",
      "source": [
        "Or8(a8,b8)"
      ],
      "metadata": {
        "colab": {
          "base_uri": "https://localhost:8080/"
        },
        "id": "wBjiU4zQm6Aj",
        "outputId": "bb58400c-1073-4de2-8afb-108a80e6ab5d"
      },
      "execution_count": null,
      "outputs": [
        {
          "output_type": "execute_result",
          "data": {
            "text/plain": [
              "[1, 0, 1, 0, 1, 1, 1, 1]"
            ]
          },
          "metadata": {},
          "execution_count": 104
        }
      ]
    },
    {
      "cell_type": "code",
      "source": [],
      "metadata": {
        "id": "thgDhi8Km9uK"
      },
      "execution_count": null,
      "outputs": []
    }
  ]
}